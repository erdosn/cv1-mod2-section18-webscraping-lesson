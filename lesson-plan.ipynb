{
 "cells": [
  {
   "cell_type": "markdown",
   "metadata": {},
   "source": [
    "### Questions\n",
    "* how to scrape something with beautiful soup when there are no class ids or ids for the section\n",
    "* is regex important for web scraping? "
   ]
  },
  {
   "cell_type": "markdown",
   "metadata": {},
   "source": [
    "### Objectives\n",
    "YWBAT\n",
    "* differentiate between getting a request and parsing the file\n",
    "* use beautiful soup to parse an html file\n",
    "* use selenium to parse an html file"
   ]
  },
  {
   "cell_type": "markdown",
   "metadata": {},
   "source": [
    "### Outline\n",
    "* questions\n",
    "* scrape ebay for pricing\n",
    "* load that information into a list\n",
    "* try to work with infinite scrolling"
   ]
  },
  {
   "cell_type": "code",
   "execution_count": 14,
   "metadata": {},
   "outputs": [],
   "source": [
    "import requests # used to get a webpage\n",
    "import pandas as pd\n",
    "import numpy as np\n",
    "\n",
    "from bs4 import BeautifulSoup # parse a webpage\n",
    "from pprint import pprint\n",
    "\n",
    "import matplotlib.pyplot as plt\n",
    "import seaborn as sns"
   ]
  },
  {
   "cell_type": "markdown",
   "metadata": {},
   "source": [
    "### Let's get an ebay url to scrape"
   ]
  },
  {
   "cell_type": "markdown",
   "metadata": {},
   "source": [
    "**setup url**"
   ]
  },
  {
   "cell_type": "code",
   "execution_count": 11,
   "metadata": {},
   "outputs": [
    {
     "data": {
      "text/plain": [
       "'https://www.ebay.com/sch/i.html?_nkw=mechanical+keyboards'"
      ]
     },
     "execution_count": 11,
     "metadata": {},
     "output_type": "execute_result"
    }
   ],
   "source": [
    "search = \"mechanical keyboards\"\n",
    "url = \"https://www.ebay.com/sch/i.html?_nkw={}\".format(search.replace(\" \", \"+\"))\n",
    "url"
   ]
  },
  {
   "cell_type": "markdown",
   "metadata": {},
   "source": [
    "**make request**"
   ]
  },
  {
   "cell_type": "code",
   "execution_count": null,
   "metadata": {},
   "outputs": [],
   "source": [
    "page = requests.get(url)"
   ]
  },
  {
   "cell_type": "code",
   "execution_count": 16,
   "metadata": {},
   "outputs": [],
   "source": [
    "content = page.content"
   ]
  },
  {
   "cell_type": "markdown",
   "metadata": {},
   "source": [
    "**make soup object for parsing**"
   ]
  },
  {
   "cell_type": "code",
   "execution_count": 17,
   "metadata": {},
   "outputs": [],
   "source": [
    "soup = BeautifulSoup(content, 'html.parser')"
   ]
  },
  {
   "cell_type": "markdown",
   "metadata": {},
   "source": [
    "**grab the item__wrappers**"
   ]
  },
  {
   "cell_type": "code",
   "execution_count": 22,
   "metadata": {},
   "outputs": [],
   "source": [
    "item_wrappers = soup.find_all('div', attrs={\"class\":\"s-item__wrapper clearfix\"}) # class fields are special"
   ]
  },
  {
   "cell_type": "markdown",
   "metadata": {},
   "source": [
    "**learning wrappers using the first item__wrapper**"
   ]
  },
  {
   "cell_type": "code",
   "execution_count": 53,
   "metadata": {},
   "outputs": [],
   "source": [
    "first_item_wrapper = item_wrappers[0]\n",
    "url = first_item_wrapper.find_all('a')[0].get('href')\n",
    "text = first_item_wrapper.find_all('h3')[0].text.strip()\n",
    "description = first_item_wrapper.find_all(\"div\", attrs={\"class\":\"s-item__subtitle\"})[0].text\n",
    "item_status = first_item_wrapper.find_all(\"div\", attrs={\"class\":\"s-item__subtitle\"})[1].text\n",
    "price = float(first_item_wrapper.find_all(\"span\", attrs={\"class\":\"s-item__price\"})[0].text.replace(\"$\", \"\"))\n",
    "shipping_info = first_item_wrapper.find_all(\"span\", attrs={\"class\":\"s-item__shipping s-item__logisticsCost\"})[0].text.lower()\n",
    "free_return = first_item_wrapper.find_all('span', attrs={\"class\":\"s-item__free-returns s-item__freeReturnsNoFee\"})[0].text.lower()"
   ]
  },
  {
   "cell_type": "code",
   "execution_count": 37,
   "metadata": {},
   "outputs": [
    {
     "data": {
      "text/plain": [
       "'Mechanical Keyboard RGB Wired Backlit Ergonomic Gaming Keyboard  Blue Switches'"
      ]
     },
     "execution_count": 37,
     "metadata": {},
     "output_type": "execute_result"
    }
   ],
   "source": [
    "first_item_wrapper.find_all('h3')[0].text.strip()"
   ]
  },
  {
   "cell_type": "code",
   "execution_count": 39,
   "metadata": {},
   "outputs": [
    {
     "data": {
      "text/plain": [
       "'Cherry MX RGB blue key switches & 104 Key & Ombar Brand'"
      ]
     },
     "execution_count": 39,
     "metadata": {},
     "output_type": "execute_result"
    }
   ],
   "source": [
    "# item description\n",
    "description = first_item_wrapper.find_all(\"div\", attrs={\"class\":\"s-item__subtitle\"})[0].text\n",
    "description"
   ]
  },
  {
   "cell_type": "code",
   "execution_count": 42,
   "metadata": {},
   "outputs": [
    {
     "data": {
      "text/plain": [
       "'Brand New'"
      ]
     },
     "execution_count": 42,
     "metadata": {},
     "output_type": "execute_result"
    }
   ],
   "source": [
    "# item status\n",
    "item_status = first_item_wrapper.find_all(\"div\", attrs={\"class\":\"s-item__subtitle\"})[1].text\n",
    "item_status"
   ]
  },
  {
   "cell_type": "code",
   "execution_count": 47,
   "metadata": {},
   "outputs": [
    {
     "data": {
      "text/plain": [
       "25.99"
      ]
     },
     "execution_count": 47,
     "metadata": {},
     "output_type": "execute_result"
    }
   ],
   "source": [
    "# finding price\n",
    "price = float(first_item_wrapper.find_all(\"span\", attrs={\"class\":\"s-item__price\"})[0].text.replace(\"$\", \"\"))"
   ]
  },
  {
   "cell_type": "code",
   "execution_count": 52,
   "metadata": {},
   "outputs": [
    {
     "data": {
      "text/plain": [
       "'free shipping'"
      ]
     },
     "execution_count": 52,
     "metadata": {},
     "output_type": "execute_result"
    }
   ],
   "source": [
    "# finding shipping info\n",
    "shipping_info = first_item_wrapper.find_all(\"span\", attrs={\"class\":\"s-item__shipping s-item__logisticsCost\"})[0].text.lower()\n",
    "shipping_info\n"
   ]
  },
  {
   "cell_type": "code",
   "execution_count": 55,
   "metadata": {},
   "outputs": [
    {
     "data": {
      "text/plain": [
       "'free returns'"
      ]
     },
     "execution_count": 55,
     "metadata": {},
     "output_type": "execute_result"
    }
   ],
   "source": [
    "# check on the return rate\n",
    "free_return = first_item_wrapper.find_all('span', attrs={\"class\":\"s-item__free-returns s-item__freeReturnsNoFee\"})[0].text.lower()\n",
    "free_return"
   ]
  },
  {
   "cell_type": "code",
   "execution_count": 60,
   "metadata": {
    "scrolled": false
   },
   "outputs": [],
   "source": [
    "# loop through all items and get the information desired\n",
    "\n",
    "dlist = []\n",
    "\n",
    "for item_wrapper in item_wrappers:\n",
    "    # commenting this out, since we are iterating through our item wrappers\n",
    "    # item_wrapper = item_wrappers[0]\n",
    "    d = {}\n",
    "    d[\"url\"] = item_wrapper.find_all('a')[0].get('href')\n",
    "    d[\"text\"] = item_wrapper.find_all('h3')[0].text.strip()\n",
    "    d[\"description\"] = item_wrapper.find_all(\"div\", attrs={\"class\":\"s-item__subtitle\"})[0].text\n",
    "    d['low_price'] = None\n",
    "    d['high_price'] = None\n",
    "    \n",
    "    \n",
    "    try:\n",
    "        d[\"item_status\"] = item_wrapper.find_all(\"div\", attrs={\"class\":\"s-item__subtitle\"})[1].text\n",
    "    except:\n",
    "        d[\"item_status\"] = None\n",
    "        \n",
    "    price_text = item_wrapper.find_all(\"span\", attrs={\"class\":\"s-item__price\"})[0].text.replace(\"$\", \"\")\n",
    "    try:\n",
    "        d[\"price\"] = float(price_text)\n",
    "    except:\n",
    "        if 'to' in price_text:\n",
    "            p1, p2 = price_text.split(\"to\")\n",
    "            d[\"low_price\"] = float(p1.strip())\n",
    "            d[\"high_price\"] = float(p2.strip())\n",
    "            \n",
    "    d[\"shipping_info\"] = item_wrapper.find_all(\"span\", attrs={\"class\":\"s-item__shipping s-item__logisticsCost\"})[0].text.lower()\n",
    "    \n",
    "    try:\n",
    "        d[\"free_return\"] = item_wrapper.find_all('span', attrs={\"class\":\"s-item__free-returns s-item__freeReturnsNoFee\"})[0].text.lower()\n",
    "    except:\n",
    "        d[\"free_return\"] = None\n",
    "    \n",
    "    \n",
    "#     for k, v in d.items():\n",
    "#         print(\"{} : {}\".format(k, v))\n",
    "#     print(\"-\"*50)\n",
    "#     print(\"\\n\")\n",
    "\n",
    "    dlist.append(d)"
   ]
  },
  {
   "cell_type": "code",
   "execution_count": 61,
   "metadata": {},
   "outputs": [
    {
     "data": {
      "text/html": [
       "<div>\n",
       "<style scoped>\n",
       "    .dataframe tbody tr th:only-of-type {\n",
       "        vertical-align: middle;\n",
       "    }\n",
       "\n",
       "    .dataframe tbody tr th {\n",
       "        vertical-align: top;\n",
       "    }\n",
       "\n",
       "    .dataframe thead th {\n",
       "        text-align: right;\n",
       "    }\n",
       "</style>\n",
       "<table border=\"1\" class=\"dataframe\">\n",
       "  <thead>\n",
       "    <tr style=\"text-align: right;\">\n",
       "      <th></th>\n",
       "      <th>description</th>\n",
       "      <th>free_return</th>\n",
       "      <th>high_price</th>\n",
       "      <th>item_status</th>\n",
       "      <th>low_price</th>\n",
       "      <th>price</th>\n",
       "      <th>shipping_info</th>\n",
       "      <th>text</th>\n",
       "      <th>url</th>\n",
       "    </tr>\n",
       "  </thead>\n",
       "  <tbody>\n",
       "    <tr>\n",
       "      <th>0</th>\n",
       "      <td>Cherry MX RGB blue key switches &amp; 104 Key &amp; Om...</td>\n",
       "      <td>free returns</td>\n",
       "      <td>NaN</td>\n",
       "      <td>Brand New</td>\n",
       "      <td>NaN</td>\n",
       "      <td>25.99</td>\n",
       "      <td>free shipping</td>\n",
       "      <td>Mechanical Keyboard RGB Wired Backlit Ergonomi...</td>\n",
       "      <td>https://www.ebay.com/itm/Mechanical-Keyboard-R...</td>\n",
       "    </tr>\n",
       "    <tr>\n",
       "      <th>1</th>\n",
       "      <td>Brand New</td>\n",
       "      <td>free returns</td>\n",
       "      <td>NaN</td>\n",
       "      <td>None</td>\n",
       "      <td>NaN</td>\n",
       "      <td>25.99</td>\n",
       "      <td>free shipping</td>\n",
       "      <td>Ombar K676 RGB 104 Key Mechanical Gaming Keybo...</td>\n",
       "      <td>https://www.ebay.com/itm/Ombar-K676-RGB-104-Ke...</td>\n",
       "    </tr>\n",
       "    <tr>\n",
       "      <th>2</th>\n",
       "      <td>Pre-Owned</td>\n",
       "      <td>None</td>\n",
       "      <td>NaN</td>\n",
       "      <td>None</td>\n",
       "      <td>NaN</td>\n",
       "      <td>49.00</td>\n",
       "      <td>+$12.99 shipping</td>\n",
       "      <td>WASD Code 87-Key V2B Backlit Mechanical Keyboa...</td>\n",
       "      <td>https://www.ebay.com/itm/WASD-Code-87-Key-V2B-...</td>\n",
       "    </tr>\n",
       "    <tr>\n",
       "      <th>3</th>\n",
       "      <td>US Seller – Fast Shipping – 60 Day Returns – W...</td>\n",
       "      <td>free returns</td>\n",
       "      <td>NaN</td>\n",
       "      <td>Brand New</td>\n",
       "      <td>NaN</td>\n",
       "      <td>28.99</td>\n",
       "      <td>free shipping</td>\n",
       "      <td>SPONSOREDRosewill RGB Gaming Keyboard, Wired, ...</td>\n",
       "      <td>https://www.ebay.com/itm/Rosewill-RGB-Gaming-K...</td>\n",
       "    </tr>\n",
       "    <tr>\n",
       "      <th>4</th>\n",
       "      <td>US Seller – Fast Shipping – 60 Day Returns – W...</td>\n",
       "      <td>free returns</td>\n",
       "      <td>NaN</td>\n",
       "      <td>Brand New</td>\n",
       "      <td>NaN</td>\n",
       "      <td>49.99</td>\n",
       "      <td>free shipping</td>\n",
       "      <td>SPONSOREDRosewill RGB Mechanical Gaming Keyboa...</td>\n",
       "      <td>https://www.ebay.com/itm/Rosewill-RGB-Mechanic...</td>\n",
       "    </tr>\n",
       "  </tbody>\n",
       "</table>\n",
       "</div>"
      ],
      "text/plain": [
       "                                         description   free_return  \\\n",
       "0  Cherry MX RGB blue key switches & 104 Key & Om...  free returns   \n",
       "1                                          Brand New  free returns   \n",
       "2                                          Pre-Owned          None   \n",
       "3  US Seller – Fast Shipping – 60 Day Returns – W...  free returns   \n",
       "4  US Seller – Fast Shipping – 60 Day Returns – W...  free returns   \n",
       "\n",
       "   high_price item_status  low_price  price     shipping_info  \\\n",
       "0         NaN   Brand New        NaN  25.99     free shipping   \n",
       "1         NaN        None        NaN  25.99     free shipping   \n",
       "2         NaN        None        NaN  49.00  +$12.99 shipping   \n",
       "3         NaN   Brand New        NaN  28.99     free shipping   \n",
       "4         NaN   Brand New        NaN  49.99     free shipping   \n",
       "\n",
       "                                                text  \\\n",
       "0  Mechanical Keyboard RGB Wired Backlit Ergonomi...   \n",
       "1  Ombar K676 RGB 104 Key Mechanical Gaming Keybo...   \n",
       "2  WASD Code 87-Key V2B Backlit Mechanical Keyboa...   \n",
       "3  SPONSOREDRosewill RGB Gaming Keyboard, Wired, ...   \n",
       "4  SPONSOREDRosewill RGB Mechanical Gaming Keyboa...   \n",
       "\n",
       "                                                 url  \n",
       "0  https://www.ebay.com/itm/Mechanical-Keyboard-R...  \n",
       "1  https://www.ebay.com/itm/Ombar-K676-RGB-104-Ke...  \n",
       "2  https://www.ebay.com/itm/WASD-Code-87-Key-V2B-...  \n",
       "3  https://www.ebay.com/itm/Rosewill-RGB-Gaming-K...  \n",
       "4  https://www.ebay.com/itm/Rosewill-RGB-Mechanic...  "
      ]
     },
     "execution_count": 61,
     "metadata": {},
     "output_type": "execute_result"
    }
   ],
   "source": [
    "df = pd.DataFrame(dlist)\n",
    "df.head()"
   ]
  },
  {
   "cell_type": "markdown",
   "metadata": {},
   "source": [
    "### What did we learn?\n",
    "* sublime text and postman\n",
    "* sublime text great for shortcut keys and editing many things at once\n",
    "* postman great for request calls and seeing headers\n",
    "* try/except\n",
    "* find_all, .get(), attrs in find_all, .text, \n",
    "* how to begin parsing through data"
   ]
  },
  {
   "cell_type": "code",
   "execution_count": 65,
   "metadata": {},
   "outputs": [
    {
     "data": {
      "text/plain": [
       "'https://www.ebay.com/sch/i.html?_nkw={}&_pgn={}'"
      ]
     },
     "execution_count": 65,
     "metadata": {},
     "output_type": "execute_result"
    }
   ],
   "source": [
    "# dealing with multiple pages\n",
    "search = \"mechanical keyboard\".replace(\" \", \"+\")\n",
    "page_number = 1\n",
    "url = \"https://www.ebay.com/sch/i.html?_nkw={}&_pgn={}\"\n",
    "url"
   ]
  },
  {
   "cell_type": "code",
   "execution_count": 67,
   "metadata": {},
   "outputs": [
    {
     "data": {
      "text/plain": [
       "['https://www.ebay.com/sch/i.html?_nkw=mechanical+keyboard&_pgn=1',\n",
       " 'https://www.ebay.com/sch/i.html?_nkw=mechanical+keyboard&_pgn=2',\n",
       " 'https://www.ebay.com/sch/i.html?_nkw=mechanical+keyboard&_pgn=3',\n",
       " 'https://www.ebay.com/sch/i.html?_nkw=mechanical+keyboard&_pgn=4',\n",
       " 'https://www.ebay.com/sch/i.html?_nkw=mechanical+keyboard&_pgn=5',\n",
       " 'https://www.ebay.com/sch/i.html?_nkw=mechanical+keyboard&_pgn=6',\n",
       " 'https://www.ebay.com/sch/i.html?_nkw=mechanical+keyboard&_pgn=7',\n",
       " 'https://www.ebay.com/sch/i.html?_nkw=mechanical+keyboard&_pgn=8',\n",
       " 'https://www.ebay.com/sch/i.html?_nkw=mechanical+keyboard&_pgn=9',\n",
       " 'https://www.ebay.com/sch/i.html?_nkw=mechanical+keyboard&_pgn=10']"
      ]
     },
     "execution_count": 67,
     "metadata": {},
     "output_type": "execute_result"
    }
   ],
   "source": [
    "urls = [url.format(search, page) for page in range(1, 11)]\n",
    "urls"
   ]
  },
  {
   "cell_type": "code",
   "execution_count": 69,
   "metadata": {},
   "outputs": [],
   "source": [
    "# loop through all items and get the information desired\n",
    "\n",
    "dlist = []\n",
    "for url in urls:\n",
    "    page = requests.get(url)\n",
    "    content = page.content\n",
    "    soup = BeautifulSoup(content, 'html.parser')\n",
    "    item_wrappers = soup.find_all('div', attrs={\"class\":\"s-item__wrapper clearfix\"}) # class fields are special\n",
    "    \n",
    "    for item_wrapper in item_wrappers:\n",
    "        # commenting this out, since we are iterating through our item wrappers\n",
    "        # item_wrapper = item_wrappers[0]\n",
    "        d = {}\n",
    "        d[\"url\"] = item_wrapper.find_all('a')[0].get('href')\n",
    "        d[\"text\"] = item_wrapper.find_all('h3')[0].text.strip()\n",
    "        d[\"description\"] = item_wrapper.find_all(\"div\", attrs={\"class\":\"s-item__subtitle\"})[0].text\n",
    "        d['low_price'] = None\n",
    "        d['high_price'] = None\n",
    "\n",
    "\n",
    "#         try:\n",
    "#             d[\"item_status\"] = item_wrapper.find_all(\"div\", attrs={\"class\":\"s-item__subtitle\"})[1].text\n",
    "#         except:\n",
    "#             d[\"item_status\"] = None\n",
    "\n",
    "#         price_text = item_wrapper.find_all(\"span\", attrs={\"class\":\"s-item__price\"})[0].text.replace(\"$\", \"\")\n",
    "#         try:\n",
    "#             d[\"price\"] = float(price_text)\n",
    "#         except:\n",
    "#             if 'to' in price_text:\n",
    "#                 p1, p2 = price_text.split(\"to\")\n",
    "#                 d[\"low_price\"] = float(p1.strip())\n",
    "#                 d[\"high_price\"] = float(p2.strip())\n",
    "\n",
    "#         d[\"shipping_info\"] = item_wrapper.find_all(\"span\", attrs={\"class\":\"s-item__shipping s-item__logisticsCost\"})[0].text.lower()\n",
    "\n",
    "#         try:\n",
    "#             d[\"free_return\"] = item_wrapper.find_all('span', attrs={\"class\":\"s-item__free-returns s-item__freeReturnsNoFee\"})[0].text.lower()\n",
    "#         except:\n",
    "#             d[\"free_return\"] = None\n",
    "\n",
    "\n",
    "    #     for k, v in d.items():\n",
    "    #         print(\"{} : {}\".format(k, v))\n",
    "    #     print(\"-\"*50)\n",
    "    #     print(\"\\n\")\n",
    "\n",
    "        dlist.append(d)"
   ]
  },
  {
   "cell_type": "code",
   "execution_count": 72,
   "metadata": {},
   "outputs": [
    {
     "name": "stdout",
     "output_type": "stream",
     "text": [
      "(600, 5)\n"
     ]
    },
    {
     "data": {
      "text/html": [
       "<div>\n",
       "<style scoped>\n",
       "    .dataframe tbody tr th:only-of-type {\n",
       "        vertical-align: middle;\n",
       "    }\n",
       "\n",
       "    .dataframe tbody tr th {\n",
       "        vertical-align: top;\n",
       "    }\n",
       "\n",
       "    .dataframe thead th {\n",
       "        text-align: right;\n",
       "    }\n",
       "</style>\n",
       "<table border=\"1\" class=\"dataframe\">\n",
       "  <thead>\n",
       "    <tr style=\"text-align: right;\">\n",
       "      <th></th>\n",
       "      <th>description</th>\n",
       "      <th>high_price</th>\n",
       "      <th>low_price</th>\n",
       "      <th>text</th>\n",
       "      <th>url</th>\n",
       "    </tr>\n",
       "  </thead>\n",
       "  <tbody>\n",
       "    <tr>\n",
       "      <th>0</th>\n",
       "      <td>Pre-Owned</td>\n",
       "      <td>None</td>\n",
       "      <td>None</td>\n",
       "      <td>WASD Code 87-Key V2B Backlit Mechanical Keyboa...</td>\n",
       "      <td>https://www.ebay.com/itm/WASD-Code-87-Key-V2B-...</td>\n",
       "    </tr>\n",
       "    <tr>\n",
       "      <th>1</th>\n",
       "      <td>Cherry MX RGB blue key switches &amp; 104 Key &amp; Om...</td>\n",
       "      <td>None</td>\n",
       "      <td>None</td>\n",
       "      <td>Mechanical Keyboard RGB Wired Backlit Ergonomi...</td>\n",
       "      <td>https://www.ebay.com/itm/Mechanical-Keyboard-R...</td>\n",
       "    </tr>\n",
       "    <tr>\n",
       "      <th>2</th>\n",
       "      <td>Pre-Owned</td>\n",
       "      <td>None</td>\n",
       "      <td>None</td>\n",
       "      <td>New ListingTenkeyless Mechanical Keyboard</td>\n",
       "      <td>https://www.ebay.com/itm/Tenkeyless-Mechanical...</td>\n",
       "    </tr>\n",
       "    <tr>\n",
       "      <th>3</th>\n",
       "      <td>US Seller – Fast Shipping – 60 Day Returns – W...</td>\n",
       "      <td>None</td>\n",
       "      <td>None</td>\n",
       "      <td>SPONSOREDRosewill RGB Gaming Keyboard, Wired, ...</td>\n",
       "      <td>https://www.ebay.com/itm/Rosewill-RGB-Gaming-K...</td>\n",
       "    </tr>\n",
       "    <tr>\n",
       "      <th>4</th>\n",
       "      <td>US Seller – Fast Shipping – 60 Day Returns – W...</td>\n",
       "      <td>None</td>\n",
       "      <td>None</td>\n",
       "      <td>SPONSOREDRosewill RGB Mechanical Gaming Keyboa...</td>\n",
       "      <td>https://www.ebay.com/itm/Rosewill-RGB-Mechanic...</td>\n",
       "    </tr>\n",
       "  </tbody>\n",
       "</table>\n",
       "</div>"
      ],
      "text/plain": [
       "                                         description high_price low_price  \\\n",
       "0                                          Pre-Owned       None      None   \n",
       "1  Cherry MX RGB blue key switches & 104 Key & Om...       None      None   \n",
       "2                                          Pre-Owned       None      None   \n",
       "3  US Seller – Fast Shipping – 60 Day Returns – W...       None      None   \n",
       "4  US Seller – Fast Shipping – 60 Day Returns – W...       None      None   \n",
       "\n",
       "                                                text  \\\n",
       "0  WASD Code 87-Key V2B Backlit Mechanical Keyboa...   \n",
       "1  Mechanical Keyboard RGB Wired Backlit Ergonomi...   \n",
       "2          New ListingTenkeyless Mechanical Keyboard   \n",
       "3  SPONSOREDRosewill RGB Gaming Keyboard, Wired, ...   \n",
       "4  SPONSOREDRosewill RGB Mechanical Gaming Keyboa...   \n",
       "\n",
       "                                                 url  \n",
       "0  https://www.ebay.com/itm/WASD-Code-87-Key-V2B-...  \n",
       "1  https://www.ebay.com/itm/Mechanical-Keyboard-R...  \n",
       "2  https://www.ebay.com/itm/Tenkeyless-Mechanical...  \n",
       "3  https://www.ebay.com/itm/Rosewill-RGB-Gaming-K...  \n",
       "4  https://www.ebay.com/itm/Rosewill-RGB-Mechanic...  "
      ]
     },
     "execution_count": 72,
     "metadata": {},
     "output_type": "execute_result"
    }
   ],
   "source": [
    "df = pd.DataFrame(dlist)\n",
    "print(df.shape)\n",
    "df.head()"
   ]
  },
  {
   "cell_type": "code",
   "execution_count": 76,
   "metadata": {},
   "outputs": [
    {
     "data": {
      "text/plain": [
       "[]"
      ]
     },
     "execution_count": 76,
     "metadata": {},
     "output_type": "execute_result"
    }
   ],
   "source": [
    "soup.find_all('div', attrs={\"class\":\"s-item__wrapper clearfix\"})"
   ]
  },
  {
   "cell_type": "code",
   "execution_count": null,
   "metadata": {},
   "outputs": [],
   "source": []
  }
 ],
 "metadata": {
  "kernelspec": {
   "display_name": "Python 3",
   "language": "python",
   "name": "python3"
  },
  "language_info": {
   "codemirror_mode": {
    "name": "ipython",
    "version": 3
   },
   "file_extension": ".py",
   "mimetype": "text/x-python",
   "name": "python",
   "nbconvert_exporter": "python",
   "pygments_lexer": "ipython3",
   "version": "3.6.4"
  }
 },
 "nbformat": 4,
 "nbformat_minor": 2
}
